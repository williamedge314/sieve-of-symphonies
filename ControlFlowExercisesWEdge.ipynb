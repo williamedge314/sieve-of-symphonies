{
 "cells": [
  {
   "cell_type": "code",
   "execution_count": null,
   "id": "1fb92bd4",
   "metadata": {},
   "outputs": [],
   "source": [
    "import random\n",
    "userint = int(input(\"You're thinking of a number between 1 and 9. What is it? \"))\n",
    "ranval = random.randint(1,9)\n",
    "if ranval == userint:\n",
    "    print (ranval)\n",
    "else:\n",
    "    print(\"That's not what I was thinking!\")"
   ]
  },
  {
   "cell_type": "code",
   "execution_count": null,
   "id": "1e69d99c",
   "metadata": {},
   "outputs": [],
   "source": [
    "pas = input(\"Let's see if your password will work: \")\n",
    "def Tally(pas):\n",
    "    upper, lower, num, sym = 0, 0, 0, 0\n",
    "    for i in range(len(pas)):\n",
    "        if pas[i].isupper():\n",
    "            upper += 1\n",
    "        elif pas[i].islower():\n",
    "            lower += 1\n",
    "        elif pas[i].isdigit():\n",
    "            num += 1\n",
    "        else:\n",
    "            sym +=1\n",
    "    if upper <= 1:\n",
    "        print(\"Your password needs a capital letter.\")\n",
    "    elif lower <= 1:\n",
    "        print(\"Your password needs a lowercase letter.\")    \n",
    "    elif num <= 1:\n",
    "        print(\"Your passowrd needs a number.\")\n",
    "    elif sym <= 1:\n",
    "        print(\"Your password needs a non-alphanumeric character.\")\n",
    "    elif len(pas) > 16 or len(pas) <6:\n",
    "        print(\"The acceptable length of a password is 6 to 16 characters.\")\n",
    "    else:\n",
    "        print(\"Well done! Here's your password: \", str(pas))\n",
    "Tally(pas)\n",
    "        "
   ]
  },
  {
   "cell_type": "code",
   "execution_count": null,
   "id": "741962ef",
   "metadata": {},
   "outputs": [],
   "source": [
    "age = []\n",
    "per1 = input(\"What's the first person's age? \")\n",
    "age.append(per1)\n",
    "per2 = input(\"What's the second person's age? \")\n",
    "age.append(per2)\n",
    "per3 = input(\"What's the third person's age? \")\n",
    "age.append(per3)\n",
    "age.sort()\n",
    "print(\"Here are the ages in ascending order: \", age)\n",
    "\n"
   ]
  },
  {
   "cell_type": "code",
   "execution_count": null,
   "id": "23d674e6",
   "metadata": {},
   "outputs": [],
   "source": [
    "Classesheld = input(\"How many classes were there?\")\n",
    "Daysattended = input(\"How many of these classes were attended?\")\n",
    "Ratio = (int(Daysattended)/int(Classesheld))\n",
    "print(Ratio)\n",
    "if Ratio > .75:\n",
    "    print(\"This is an acceptable ratio. This student is eligible.\")\n",
    "else:\n",
    "    print(\"This is not an acceptable ratio. This student is not eligible.\")"
   ]
  },
  {
   "cell_type": "code",
   "execution_count": null,
   "id": "84d45de6",
   "metadata": {},
   "outputs": [],
   "source": [
    "integer = int(input(\"What number are you thinking of?\"))\n",
    "oddcall = integer % 2 \n",
    "if oddcall > 0:\n",
    "    print(\"weird\")\n",
    "elif integer < 5:\n",
    "    print(\"Not Weird\")\n",
    "elif integer < 20:\n",
    "    print(\"Weird\")\n",
    "elif integer > 21:\n",
    "    print(\"Not Weird\")"
   ]
  },
  {
   "cell_type": "code",
   "execution_count": null,
   "id": "26acead8",
   "metadata": {},
   "outputs": [],
   "source": []
  },
  {
   "cell_type": "code",
   "execution_count": null,
   "id": "41166c80",
   "metadata": {},
   "outputs": [],
   "source": []
  }
 ],
 "metadata": {
  "kernelspec": {
   "display_name": "Python 3",
   "language": "python",
   "name": "python3"
  },
  "language_info": {
   "codemirror_mode": {
    "name": "ipython",
    "version": 3
   },
   "file_extension": ".py",
   "mimetype": "text/x-python",
   "name": "python",
   "nbconvert_exporter": "python",
   "pygments_lexer": "ipython3",
   "version": "3.9.1"
  }
 },
 "nbformat": 4,
 "nbformat_minor": 5
}
