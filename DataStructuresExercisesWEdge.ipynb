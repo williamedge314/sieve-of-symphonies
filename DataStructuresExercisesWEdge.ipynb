{
 "cells": [
  {
   "cell_type": "code",
   "execution_count": null,
   "id": "207d07a3",
   "metadata": {},
   "outputs": [],
   "source": [
    "import math\n",
    "#this function is intended to return the roots of any polynomial compatible with the quadratic equation\n",
    "def quadratic(a, b, c):\n",
    "    x1 = (- b + math.sqrt(b**2 - 4*a*c))/2*a\n",
    "    x2 = (- b - math.sqrt(b**2 - 4*a*c))/2*a\n",
    "    return x1, x2\n",
    "print(quadratic(1,-3, 2))\n",
    "print(quadratic(1,2,1))"
   ]
  },
  {
   "cell_type": "code",
   "execution_count": null,
   "id": "ffc5eb36",
   "metadata": {},
   "outputs": [],
   "source": [
    "#this function createa a tuple out of user inputs\n",
    "a = input(\"a?\")\n",
    "b = input(\"b?\")\n",
    "c = input(\"c?\")\n",
    "d = input(\"d?\")\n",
    "inputs = a, b, c, d\n",
    "def createlist(a, b, c, d):\n",
    "    list = hash(tuple(inputs))\n",
    "    return list\n",
    "print(list)\n",
    "print(tuple(inputs))\n"
   ]
  },
  {
   "cell_type": "code",
   "execution_count": null,
   "id": "6cd847fd",
   "metadata": {},
   "outputs": [],
   "source": [
    "#this function creates a third list out of even selections from listTwo and odd selections from listOne\n",
    "listOne = [3, 6, 9, 12, 15, 18, 21]\n",
    "listTwo = [4, 8, 12, 16, 20, 24, 28]\n",
    "listThree =  listTwo[0], listOne[1], listTwo[2], listOne[3], listTwo[4], listOne[5], listTwo[6]\n",
    "print(listThree)"
   ]
  },
  {
   "cell_type": "code",
   "execution_count": null,
   "id": "038fe879",
   "metadata": {},
   "outputs": [],
   "source": [
    "#this function creates three reversed segments of equal length out of a single input \n",
    "samplelist = [11, 45, 8, 23, 14, 12, 78, 45, 89]\n",
    "set1 = []\n",
    "set2 = []\n",
    "set3 = []\n",
    "def separate(samplelist):\n",
    "    set1.append(samplelist[-7:-10:-1])\n",
    "    print(set1)\n",
    "    set2.append(samplelist[-4:-7:-1])\n",
    "    print(set2)\n",
    "    set3.append(samplelist[-1:-4:-1])\n",
    "    print(set3)\n",
    "separate(samplelist)\n",
    "    "
   ]
  },
  {
   "cell_type": "code",
   "execution_count": 1,
   "id": "28838cdc",
   "metadata": {},
   "outputs": [
    {
     "name": "stdout",
     "output_type": "stream",
     "text": [
      "[(47, 69, 76, 97)]\n"
     ]
    }
   ],
   "source": [
    "#this list prints only the set of values present in one list that match the values pertaining to the keys of a separate dictionary \n",
    "rollNumber = [47, 64, 69, 37, 76, 83, 95, 97]\n",
    "sampleDict = {'Zach':47, 'Emma':69, 'Kelly':76, 'Jason':97}\n",
    "def check(rollNumber, sampleDict):\n",
    "    newRoll = []\n",
    "    val = []\n",
    "    library = [sampleDict]\n",
    "    placeholder = sampleDict['Zach'], sampleDict['Emma'], sampleDict['Kelly'], sampleDict['Jason']\n",
    "    for i in placeholder:\n",
    "        val.append(placeholder)\n",
    "        return val\n",
    "    for i in val:\n",
    "        if vali in rollNumber: \n",
    "            newRoll.append(i)\n",
    "            return newRoll\n",
    "print(check(rollNumber, sampleDict))"
   ]
  },
  {
   "cell_type": "code",
   "execution_count": null,
   "id": "73f3b2ae",
   "metadata": {},
   "outputs": [],
   "source": []
  },
  {
   "cell_type": "code",
   "execution_count": null,
   "id": "84b7d446",
   "metadata": {},
   "outputs": [],
   "source": []
  }
 ],
 "metadata": {
  "kernelspec": {
   "display_name": "Python 3",
   "language": "python",
   "name": "python3"
  },
  "language_info": {
   "codemirror_mode": {
    "name": "ipython",
    "version": 3
   },
   "file_extension": ".py",
   "mimetype": "text/x-python",
   "name": "python",
   "nbconvert_exporter": "python",
   "pygments_lexer": "ipython3",
   "version": "3.9.1"
  }
 },
 "nbformat": 4,
 "nbformat_minor": 5
}
